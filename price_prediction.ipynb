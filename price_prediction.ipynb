{
 "cells": [
  {
   "cell_type": "code",
   "execution_count": 159,
   "metadata": {},
   "outputs": [],
   "source": [
    "import pandas as pd\n",
    "import matplotlib.pyplot as plt\n",
    "\n",
    "from sklearn.model_selection import train_test_split\n",
    "# random forest\n",
    "from sklearn.ensemble import RandomForestRegressor\n",
    "from sklearn.neural_network import MLPRegressor\n",
    "from sklearn.metrics import mean_squared_error"
   ]
  },
  {
   "cell_type": "code",
   "execution_count": 215,
   "metadata": {},
   "outputs": [
    {
     "name": "stdout",
     "output_type": "stream",
     "text": [
      "       crim        rm   ptratio     lstat       age       dis     indus  \\\n",
      "0  0.000000  0.577505  0.287234  0.089680  0.641607  0.269203  0.067815   \n",
      "1  0.000236  0.547998  0.553191  0.204470  0.782698  0.348962  0.242302   \n",
      "2  0.000236  0.694386  0.553191  0.063466  0.599382  0.348962  0.242302   \n",
      "3  0.000293  0.658555  0.648936  0.033389  0.441813  0.448545  0.063050   \n",
      "4  0.000705  0.687105  0.648936  0.099338  0.528321  0.448545  0.063050   \n",
      "\n",
      "        tax       nox       rad    zn  chas  \n",
      "0  0.208015  0.314815  0.000000  0.18   0.0  \n",
      "1  0.104962  0.172840  0.043478  0.00   0.0  \n",
      "2  0.104962  0.172840  0.043478  0.00   0.0  \n",
      "3  0.066794  0.150206  0.086957  0.00   0.0  \n",
      "4  0.066794  0.150206  0.086957  0.00   0.0  \n",
      "\n",
      "       medv\n",
      "0  0.422222\n",
      "1  0.368889\n",
      "2  0.660000\n",
      "3  0.631111\n",
      "4  0.693333\n"
     ]
    }
   ],
   "source": [
    "df = pd.read_csv('./BostonHousing.csv')\n",
    "\n",
    "\"\"\"\n",
    "First looking at the dataset, there are many possible features to use.\n",
    "We aim to use features that are most correlated with the price, prioritizing\n",
    "a limited number of features due to the 'curse of dimensionality'.\n",
    "\n",
    "This phenomenon suggests that as the number of features or dimensions increases, the \n",
    "volume of data required to achieve accurate generalization grows exponentially, and of course compute needed.\n",
    "\n",
    "Also, we want to avoid using features that are not correlated with the price.\n",
    "\n",
    "The dataset contains the following features:\n",
    "    CRIM: Per capita crime rate by town.\n",
    "    ZN: Proportion of residential land zoned for lots over 25,000 sq. ft.\n",
    "    INDUS: Proportion of non-retail business acres per town.\n",
    "    CHAS: Charles River dummy variable (1 if the tract bounds the river; 0 otherwise).\n",
    "    NOX: Nitrogen oxide concentration (parts per 10 million).\n",
    "    RM: Average number of rooms per dwelling.\n",
    "    AGE: Proportion of owner-occupied units built before 1940.\n",
    "    DIS: Weighted distances to five Boston employment centers.\n",
    "    RAD: Index of accessibility to radial highways.\n",
    "    TAX: Full-value property tax rate per $10,000.\n",
    "    PTRATIO: Pupil-teacher ratio by town.\n",
    "    LSTAT: Percentage of lower status of the population.\n",
    "The thing we want to predict is:\n",
    "    MEDV: Median value of owner-occupied homes in $1000s. This is the target variable.\n",
    "\"\"\"\n",
    "\n",
    "# Select relevant features\n",
    "# We can select all features, but we will use the random forest feature importance to select the most important features\n",
    "x = df[['crim', 'rm', 'ptratio', 'lstat', 'age', 'dis', 'indus', 'tax', 'nox', 'rad', 'zn', 'chas']]\n",
    "y = df[['medv']]\n",
    "\n",
    "# We will use these later for normalization, so store them \n",
    "medv_min = df['medv'].min()\n",
    "medv_max = df['medv'].max()\n",
    "\n",
    "# Normalize the features using min-max scaling\n",
    "x = (x - x.min()) / (x.max() - x.min())\n",
    "y = (y - medv_min) / (medv_max - medv_min)\n",
    "\n",
    "print(x.head())\n",
    "print()\n",
    "print(y.head())\n",
    "\n",
    "# Split the dataset into training and testing sets\n",
    "x_train, x_test, y_train, y_test = train_test_split(x, y, test_size=0.2)\n"
   ]
  },
  {
   "cell_type": "code",
   "execution_count": 218,
   "metadata": {},
   "outputs": [
    {
     "name": "stdout",
     "output_type": "stream",
     "text": [
      "Mean squared error:  0.007555334301083933\n",
      "R2 score:  0.852075437899247\n"
     ]
    }
   ],
   "source": [
    "\"\"\"\n",
    "After playing around with different models, we found that the random forest regressor\n",
    "and the MLP regressor performed the best. We will use the random forest\n",
    "regressor for this example.\n",
    "\n",
    "The MLP was a close second, but it was more difficult to tune and took longer to \n",
    "train (also due to it needing more data).\n",
    "\n",
    "The random forest regressor is an ensemble method that uses a collection of decision trees\n",
    "to make predictions. It is a powerful model that is easy to use and tune.\n",
    "Also, the random forest regressor allows us to easily see the feature importances, which\n",
    "shows us which features are most important in predicting the price.\n",
    "\"\"\"\n",
    "\n",
    "# model = MLPRegressor(\n",
    "#     hidden_layer_sizes=(128, 256, 512),\n",
    "#     max_iter=200,\n",
    "#     alpha=0.0003,\n",
    "#     batch_size=32,\n",
    "#     early_stopping=True\n",
    "# )\n",
    "model = RandomForestRegressor(n_estimators=300, max_depth=100)\n",
    "model.fit(x_train, y_train.values.ravel())\n",
    "\n",
    "# Predict the prices\n",
    "y_pred = model.predict(x_test)\n",
    "\n",
    "# Un-normalize the predicted prices\n",
    "# y_pred_unnorm = y_pred * (medv_max - medv_min) + medv_min\n",
    "# print(y_pred_unnorm)\n",
    "\n",
    "# Calculate the mean squared error\n",
    "mse = mean_squared_error(y_test, y_pred)\n",
    "print('Mean squared error: ', mse)\n",
    "\n",
    "# Calculate the R2 score (1 is perfect prediction, 0 is random prediction)\n",
    "r2_score = model.score(x_test, y_test)\n",
    "print('R2 score: ', r2_score)"
   ]
  },
  {
   "cell_type": "code",
   "execution_count": 219,
   "metadata": {},
   "outputs": [
    {
     "data": {
      "image/png": "[encoded data removed]",
      "text/plain": [
       "<Figure size 1000x600 with 1 Axes>"
      ]
     },
     "metadata": {},
     "output_type": "display_data"
    }
   ],
   "source": [
    "\"\"\"\n",
    "We see in this graph that the RM (average number of rooms per dwelling) feature is the most important.\n",
    "Also with a high importance is the LSTAT (percentage of lower status of the population) feature.\n",
    "This makes sense, as more rooms usually means a larger house, which means a higher price.\n",
    "\n",
    "Now, we can prune all of the features that have a low importance, and retrain the model.\n",
    "\"\"\"\n",
    "\n",
    "importances = model.feature_importances_\n",
    "feature_names = x.columns\n",
    "importance_dict = dict(zip(feature_names, importances))\n",
    "sorted_importance = sorted(importance_dict.items(), key=lambda x: x[1], reverse=True)\n",
    "\n",
    "plt.figure(figsize=(10, 6))\n",
    "plt.title(\"Feature Importances\")\n",
    "plt.barh([item[0] for item in sorted_importance], [item[1] for item in sorted_importance])\n",
    "plt.gca().invert_yaxis()\n",
    "plt.show()\n"
   ]
  }
 ],
 "metadata": {
  "kernelspec": {
   "display_name": "base",
   "language": "python",
   "name": "python3"
  },
  "language_info": {
   "codemirror_mode": {
    "name": "ipython",
    "version": 3
   },
   "file_extension": ".py",
   "mimetype": "text/x-python",
   "name": "python",
   "nbconvert_exporter": "python",
   "pygments_lexer": "ipython3",
   "version": "3.10.9"
  },
  "orig_nbformat": 4
 },
 "nbformat": 4,
 "nbformat_minor": 2
}
